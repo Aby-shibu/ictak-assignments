{
  "nbformat": 4,
  "nbformat_minor": 0,
  "metadata": {
    "colab": {
      "provenance": []
    },
    "kernelspec": {
      "name": "python3",
      "display_name": "Python 3"
    },
    "language_info": {
      "name": "python"
    }
  },
  "cells": [
    {
      "cell_type": "markdown",
      "source": [
        "1. Simple ATM Calculator\n",
        "\n"
      ],
      "metadata": {
        "id": "5jdvU8rngS4a"
      }
    },
    {
      "cell_type": "code",
      "execution_count": null,
      "metadata": {
        "colab": {
          "base_uri": "https://localhost:8080/"
        },
        "id": "Y7vaaUgDgFg7",
        "outputId": "f56815b3-97f4-484a-e6a5-121652379ca4"
      },
      "outputs": [
        {
          "output_type": "stream",
          "name": "stdout",
          "text": [
            "enter your account balance5000\n",
            "enter withdrawal amount1500\n",
            "Transaction successful. Remaining balance: ₹ 3500\n"
          ]
        }
      ],
      "source": [
        "bank_balance=int(input(\"enter your account balance\"))\n",
        "withdrawal=int(input(\"enter withdrawal amount\"))\n",
        "if withdrawal<bank_balance:\n",
        "  balance=bank_balance-withdrawal\n",
        "  print(\"Transaction successful. Remaining balance: ₹\",balance)\n",
        "else:\n",
        "  print(\"insufficient balance !\")\n"
      ]
    },
    {
      "cell_type": "markdown",
      "source": [
        "2. Electricity Bill Generator"
      ],
      "metadata": {
        "id": "mpp9VfIMhzWQ"
      }
    },
    {
      "cell_type": "code",
      "source": [
        "units = int(input(\"Units consumed: \"))\n",
        "print(\"=\", u)\n",
        "\n",
        "if units <= 100:\n",
        "    bill = u * 5\n",
        "    print(f\"Bill amount = ₹{bill} ({u}×5)\")\n",
        "elif u <= 200:\n",
        "    bill = (100 * 5) + (u - 100) * 7\n",
        "    print(f\"Bill amount = ₹{bill} (100×5 + {u - 100}×7)\")\n",
        "else:\n",
        "    bill = (100 * 5) + (100 * 7) + (u - 200) * 10\n",
        "    print(f\"Bill amount = ₹{bill} (100×5 + 100×7 + {u - 200}×10)\")\n"
      ],
      "metadata": {
        "id": "JIAjEXDth4Gp",
        "colab": {
          "base_uri": "https://localhost:8080/"
        },
        "outputId": "631befcc-7c68-4ad0-9d75-7b33ee7edadf"
      },
      "execution_count": 8,
      "outputs": [
        {
          "output_type": "stream",
          "name": "stdout",
          "text": [
            "Enter units consumed: 275\n",
            "Bill amount = ₹ 1950\n"
          ]
        }
      ]
    },
    {
      "cell_type": "markdown",
      "source": [
        "3. Temperature Converter\n"
      ],
      "metadata": {
        "id": "-CemH-IQijzz"
      }
    },
    {
      "cell_type": "code",
      "source": [
        "\n",
        "def temperature_converter(temperature,unit):\n",
        "  if unit == \"C\" or unit == \"c\":\n",
        "    result = (9/5 * temperature) + 32\n",
        "    result=round(result,2)\n",
        "    print(result,\"F\")\n",
        "  elif unit == \"F\" or unit == \"f\":\n",
        "    result = (5/9 * (temperature-32))\n",
        "    result=round(result,2)\n",
        "    print(result,\"C\")\n",
        "  else:\n",
        "    print(\"invalid unit\")\n",
        "temperature=float(input(\"Enter The Temperature\"))\n",
        "unit=str(input(\"Enter the Unit of Temperature\"))\n",
        "temperature_converter(temperature,unit)\n"
      ],
      "metadata": {
        "colab": {
          "base_uri": "https://localhost:8080/"
        },
        "id": "NwmJ7Ht_imnD",
        "outputId": "81bbd403-128e-4a5f-fa50-0d464bf42f9b"
      },
      "execution_count": null,
      "outputs": [
        {
          "output_type": "stream",
          "name": "stdout",
          "text": [
            "Enter The Temperature98.6\n",
            "Enter the Unit of Temperaturef\n",
            "37.0 C\n"
          ]
        }
      ]
    },
    {
      "cell_type": "markdown",
      "source": [
        "4. Mobile Recharge Validity"
      ],
      "metadata": {
        "id": "TsRA67B0nsL2"
      }
    },
    {
      "cell_type": "code",
      "source": [
        "from datetime import datetime, timedelta\n",
        "\n",
        "recharge_date = input(\"Recharge date (YYYY-MM-DD): \")\n",
        "today_date = input(\"Today date (YYYY-MM-DD): \")\n",
        "\n",
        "recharge_date = datetime.strptime(recharge_date, \"%Y-%m-%d\")\n",
        "today_date = datetime.strptime(today_date, \"%Y-%m-%d\")\n",
        "\n",
        "expiry_date = recharge_date + timedelta(days=28)\n",
        "\n",
        "if today_date <= expiry_date:\n",
        "    print(\"Plan valid.\")\n",
        "else:\n",
        "    print(\"Plan expired. Recharge again.\")\n"
      ],
      "metadata": {
        "id": "8d0mGNcnnrtR",
        "colab": {
          "base_uri": "https://localhost:8080/"
        },
        "outputId": "7317642d-fda4-4c8e-8aba-232ffd5085e6"
      },
      "execution_count": 11,
      "outputs": [
        {
          "output_type": "stream",
          "name": "stdout",
          "text": [
            "Recharge date (YYYY-MM-DD): 2025-07-01\n",
            "Today date (YYYY-MM-DD): 2025-07-30\n",
            "Plan expired. Recharge again.\n"
          ]
        }
      ]
    },
    {
      "cell_type": "markdown",
      "source": [
        "5. Bus Seat Reservation System:\n"
      ],
      "metadata": {
        "id": "8QnHiJCQn0Dz"
      }
    },
    {
      "cell_type": "code",
      "source": [
        "booked = input(\"Enter booked passengers \").split()\n",
        "cancel = input(\"Enter the name to cancel: \")\n",
        "new = input(\"Enter the new passenger name: \")\n",
        "position = int(input(\"Enter the position of the passenger\"))\n",
        "\n",
        "booked.remove(cancel)\n",
        "booked.insert(position, new)\n",
        "\n",
        "print(booked)\n"
      ],
      "metadata": {
        "id": "As_xeMGtn2uu",
        "colab": {
          "base_uri": "https://localhost:8080/"
        },
        "outputId": "947a4825-589c-4298-a1bb-9909d2ef8dfc"
      },
      "execution_count": 7,
      "outputs": [
        {
          "output_type": "stream",
          "name": "stdout",
          "text": [
            "Enter booked passengers amit sara john\n",
            "Enter the name to cancel: sara\n",
            "Enter the new passenger name: neha\n",
            "Enter the position of the passenger1\n",
            "['amit', 'neha', 'john']\n"
          ]
        }
      ]
    },
    {
      "cell_type": "markdown",
      "source": [
        "6. Sum of even numbers\n"
      ],
      "metadata": {
        "id": "19LNZT_Cn_nS"
      }
    },
    {
      "cell_type": "code",
      "source": [
        "number = int(input(\"Enter a number: \"))\n",
        "sum = 0\n",
        "\n",
        "for i in range(1, number + 1):\n",
        "    if i % 2 == 0:\n",
        "        sum += i\n",
        "\n",
        "print(\"Sum of even numbers:\", sum)"
      ],
      "metadata": {
        "colab": {
          "base_uri": "https://localhost:8080/"
        },
        "id": "109s4r_xoCIZ",
        "outputId": "6f7ff182-011a-4fbf-9363-9a4202e7799b"
      },
      "execution_count": null,
      "outputs": [
        {
          "output_type": "stream",
          "name": "stdout",
          "text": [
            "Enter a number: 10\n",
            "Sum of even numbers: 30\n"
          ]
        }
      ]
    },
    {
      "cell_type": "markdown",
      "source": [
        "7. Dictionary – Student Marks Summary"
      ],
      "metadata": {
        "id": "0b1EhV2KoCxd"
      }
    },
    {
      "cell_type": "code",
      "source": [
        "students = {}\n",
        "for i in range(3):\n",
        "    name = input(\"Enter name: \")\n",
        "    marks = float(input(\"Enter marks: \"))\n",
        "    students[name] = marks\n",
        "average_marks = sum(students.values()) / 3\n",
        "print(\"Average Marks:\", average_marks)\n",
        "\n"
      ],
      "metadata": {
        "id": "4Ngw5SLdoFWT",
        "colab": {
          "base_uri": "https://localhost:8080/"
        },
        "outputId": "d3a4533c-7172-4863-d26b-782b1a2955c9"
      },
      "execution_count": 6,
      "outputs": [
        {
          "output_type": "stream",
          "name": "stdout",
          "text": [
            "Enter name: alice\n",
            "Enter marks: 80\n",
            "Enter name: bob\n",
            "Enter marks: 90\n",
            "Enter name: charlie\n",
            "Enter marks: 70\n",
            "Average Marks: 80.0\n"
          ]
        }
      ]
    },
    {
      "cell_type": "markdown",
      "source": [
        "8. Dictionary – Word Frequency"
      ],
      "metadata": {
        "id": "9CpNWe2noGsz"
      }
    },
    {
      "cell_type": "code",
      "source": [
        "def Frequency():\n",
        "  sentence = input(\"Enter a senternce\")\n",
        "  words = sentence.split()\n",
        "  freq = {}\n",
        "  for word in words:\n",
        "    if word in freq:\n",
        "      freq[word] += 1\n",
        "    else:\n",
        "      freq[word] = 1\n",
        "  return freq\n",
        "result = Frequency()\n",
        "print(result)\n"
      ],
      "metadata": {
        "id": "p1Saab8roKs-",
        "colab": {
          "base_uri": "https://localhost:8080/"
        },
        "outputId": "8b4becaa-a275-46ae-d8ef-8b5f94abe51c"
      },
      "execution_count": 9,
      "outputs": [
        {
          "output_type": "stream",
          "name": "stdout",
          "text": [
            "Enter a senterncehello world hell world\n",
            "{'hello': 1, 'world': 2, 'hell': 1}\n"
          ]
        }
      ]
    },
    {
      "cell_type": "markdown",
      "source": [
        "9. Functions – Check Prime\n"
      ],
      "metadata": {
        "id": "rYNGc-q0owM-"
      }
    },
    {
      "cell_type": "code",
      "source": [
        "def check_prime(number):\n",
        "  if number>1:\n",
        "    for i in range(2,number):\n",
        "      if number%i==0:\n",
        "        print(number,\" is not a prime number\")\n",
        "        break\n",
        "    else:\n",
        "      print(number,\"is prime number\")\n",
        "number=int(input(\"Enter a number\"))\n",
        "check_prime(number)"
      ],
      "metadata": {
        "colab": {
          "base_uri": "https://localhost:8080/"
        },
        "id": "Se08HnWXoyfM",
        "outputId": "0424dee6-9c86-408a-a137-390b21d6e238"
      },
      "execution_count": null,
      "outputs": [
        {
          "output_type": "stream",
          "name": "stdout",
          "text": [
            "Enter a number17\n",
            "17 is prime number\n"
          ]
        }
      ]
    },
    {
      "cell_type": "markdown",
      "source": [
        "10. Vowel Counter"
      ],
      "metadata": {
        "id": "almM1xY9o0Re"
      }
    },
    {
      "cell_type": "code",
      "source": [
        "def vowel_counter():\n",
        "  vowel=str(input(\"enter a string\"))\n",
        "  count=0\n",
        "  for i in vowel:\n",
        "    if i in \"aeiouAEIOU\":\n",
        "      count=count+1\n",
        "  print(\"number of vowels:\",count)\n",
        "vowel_counter()\n"
      ],
      "metadata": {
        "colab": {
          "base_uri": "https://localhost:8080/"
        },
        "id": "MsYGjt-Uo1HQ",
        "outputId": "29ac3be6-c566-4269-f1cd-22ae6d0b115b"
      },
      "execution_count": null,
      "outputs": [
        {
          "output_type": "stream",
          "name": "stdout",
          "text": [
            "enter a stringpython programming\n",
            "number of vowels: 4\n"
          ]
        }
      ]
    },
    {
      "cell_type": "markdown",
      "source": [
        "11. Count Divisible Numbers"
      ],
      "metadata": {
        "id": "0e7DTd3Oo4H2"
      }
    },
    {
      "cell_type": "code",
      "source": [
        "\n",
        "N = int(input(\"Enter the range limit (N): \"))\n",
        "D = int(input(\"Enter the divisor (D): \"))\n",
        "\n",
        "count = 0\n",
        "for i in range(1, N + 1):\n",
        "    if i % D == 0:\n",
        "        count += 1\n",
        "print(\"Count of numbers divisible by \",D,\":\" ,count)\n"
      ],
      "metadata": {
        "id": "iDUyIcLko5jA",
        "colab": {
          "base_uri": "https://localhost:8080/"
        },
        "outputId": "b429e561-f147-4bf8-e2ed-c55510ca4d4f"
      },
      "execution_count": 5,
      "outputs": [
        {
          "output_type": "stream",
          "name": "stdout",
          "text": [
            "Enter the range limit (N): 50\n",
            "Enter the divisor (D): 5\n",
            "Count of numbers divisible by  5 : 10\n"
          ]
        }
      ]
    }
  ]
}